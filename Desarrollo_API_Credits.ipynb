{
 "cells": [
  {
   "cell_type": "markdown",
   "metadata": {},
   "source": [
    "6. def get_director( nombre_director ):"
   ]
  },
  {
   "cell_type": "code",
   "execution_count": 1,
   "metadata": {},
   "outputs": [],
   "source": [
    "import numpy as np\n",
    "import pandas as pd"
   ]
  },
  {
   "cell_type": "code",
   "execution_count": 2,
   "metadata": {},
   "outputs": [],
   "source": [
    "df = pd.read_csv('C:/Users/cesua/OneDrive/Documentos/Henry/Proyecto_Individual_1/Datasets/credits_final.csv')"
   ]
  },
  {
   "cell_type": "code",
   "execution_count": 3,
   "metadata": {},
   "outputs": [
    {
     "data": {
      "text/html": [
       "<div>\n",
       "<style scoped>\n",
       "    .dataframe tbody tr th:only-of-type {\n",
       "        vertical-align: middle;\n",
       "    }\n",
       "\n",
       "    .dataframe tbody tr th {\n",
       "        vertical-align: top;\n",
       "    }\n",
       "\n",
       "    .dataframe thead th {\n",
       "        text-align: right;\n",
       "    }\n",
       "</style>\n",
       "<table border=\"1\" class=\"dataframe\">\n",
       "  <thead>\n",
       "    <tr style=\"text-align: right;\">\n",
       "      <th></th>\n",
       "      <th>id</th>\n",
       "      <th>cast</th>\n",
       "      <th>crew</th>\n",
       "      <th>job</th>\n",
       "      <th>name</th>\n",
       "    </tr>\n",
       "  </thead>\n",
       "  <tbody>\n",
       "    <tr>\n",
       "      <th>45466</th>\n",
       "      <td>84419</td>\n",
       "      <td>[{'cast_id': 5, 'character': 'The Creeper', 'c...</td>\n",
       "      <td>[{'credit_id': '58152c139251415a7f0047e2', 'de...</td>\n",
       "      <td>Recording Supervision</td>\n",
       "      <td>Fred Hynes</td>\n",
       "    </tr>\n",
       "    <tr>\n",
       "      <th>45467</th>\n",
       "      <td>390959</td>\n",
       "      <td>[{'cast_id': 30, 'character': 'Debuty Hank Har...</td>\n",
       "      <td>[{'credit_id': '56ff6ddbc3a3686e9e0013bc', 'de...</td>\n",
       "      <td>Music Editor</td>\n",
       "      <td>George Adams</td>\n",
       "    </tr>\n",
       "    <tr>\n",
       "      <th>45468</th>\n",
       "      <td>289923</td>\n",
       "      <td>[{'cast_id': 2, 'character': 'Branwall', 'cred...</td>\n",
       "      <td>[{'credit_id': '5403d669c3a3682d9800427d', 'de...</td>\n",
       "      <td>Music Editor</td>\n",
       "      <td>Robert Mayer</td>\n",
       "    </tr>\n",
       "    <tr>\n",
       "      <th>45469</th>\n",
       "      <td>222848</td>\n",
       "      <td>[{'cast_id': 1, 'character': 'Kira (as Cassand...</td>\n",
       "      <td>[{'credit_id': '5757f36ac3a3687d6f000e8a', 'de...</td>\n",
       "      <td>Director</td>\n",
       "      <td>Adrian Lyne</td>\n",
       "    </tr>\n",
       "    <tr>\n",
       "      <th>45470</th>\n",
       "      <td>30840</td>\n",
       "      <td>[{'cast_id': 1, 'character': 'Sir Robert Hode'...</td>\n",
       "      <td>[{'credit_id': '52fe44439251416c9100a899', 'de...</td>\n",
       "      <td>Screenplay</td>\n",
       "      <td>Thomas Hedley Jr.</td>\n",
       "    </tr>\n",
       "    <tr>\n",
       "      <th>45471</th>\n",
       "      <td>439050</td>\n",
       "      <td>[{'cast_id': 0, 'character': '', 'credit_id': ...</td>\n",
       "      <td>[{'credit_id': '5894a97d925141426c00818c', 'de...</td>\n",
       "      <td>Screenplay</td>\n",
       "      <td>Joe Eszterhas</td>\n",
       "    </tr>\n",
       "    <tr>\n",
       "      <th>45472</th>\n",
       "      <td>111109</td>\n",
       "      <td>[{'cast_id': 1002, 'character': 'Sister Angela...</td>\n",
       "      <td>[{'credit_id': '52fe4af1c3a36847f81e9b15', 'de...</td>\n",
       "      <td>Producer</td>\n",
       "      <td>Don Simpson</td>\n",
       "    </tr>\n",
       "    <tr>\n",
       "      <th>45473</th>\n",
       "      <td>67758</td>\n",
       "      <td>[{'cast_id': 6, 'character': 'Emily Shaw', 'cr...</td>\n",
       "      <td>[{'credit_id': '52fe4776c3a368484e0c8387', 'de...</td>\n",
       "      <td>Producer</td>\n",
       "      <td>Jerry Bruckheimer</td>\n",
       "    </tr>\n",
       "    <tr>\n",
       "      <th>45474</th>\n",
       "      <td>227506</td>\n",
       "      <td>[{'cast_id': 2, 'character': '', 'credit_id': ...</td>\n",
       "      <td>[{'credit_id': '533bccebc3a36844cf0011a7', 'de...</td>\n",
       "      <td>Original Music Composer</td>\n",
       "      <td>Giorgio Moroder</td>\n",
       "    </tr>\n",
       "    <tr>\n",
       "      <th>45475</th>\n",
       "      <td>461257</td>\n",
       "      <td>[]</td>\n",
       "      <td>[{'credit_id': '593e676c92514105b702e68e', 'de...</td>\n",
       "      <td>Director of Photography</td>\n",
       "      <td>Donald Peterman</td>\n",
       "    </tr>\n",
       "  </tbody>\n",
       "</table>\n",
       "</div>"
      ],
      "text/plain": [
       "           id                                               cast   \n",
       "45466   84419  [{'cast_id': 5, 'character': 'The Creeper', 'c...  \\\n",
       "45467  390959  [{'cast_id': 30, 'character': 'Debuty Hank Har...   \n",
       "45468  289923  [{'cast_id': 2, 'character': 'Branwall', 'cred...   \n",
       "45469  222848  [{'cast_id': 1, 'character': 'Kira (as Cassand...   \n",
       "45470   30840  [{'cast_id': 1, 'character': 'Sir Robert Hode'...   \n",
       "45471  439050  [{'cast_id': 0, 'character': '', 'credit_id': ...   \n",
       "45472  111109  [{'cast_id': 1002, 'character': 'Sister Angela...   \n",
       "45473   67758  [{'cast_id': 6, 'character': 'Emily Shaw', 'cr...   \n",
       "45474  227506  [{'cast_id': 2, 'character': '', 'credit_id': ...   \n",
       "45475  461257                                                 []   \n",
       "\n",
       "                                                    crew   \n",
       "45466  [{'credit_id': '58152c139251415a7f0047e2', 'de...  \\\n",
       "45467  [{'credit_id': '56ff6ddbc3a3686e9e0013bc', 'de...   \n",
       "45468  [{'credit_id': '5403d669c3a3682d9800427d', 'de...   \n",
       "45469  [{'credit_id': '5757f36ac3a3687d6f000e8a', 'de...   \n",
       "45470  [{'credit_id': '52fe44439251416c9100a899', 'de...   \n",
       "45471  [{'credit_id': '5894a97d925141426c00818c', 'de...   \n",
       "45472  [{'credit_id': '52fe4af1c3a36847f81e9b15', 'de...   \n",
       "45473  [{'credit_id': '52fe4776c3a368484e0c8387', 'de...   \n",
       "45474  [{'credit_id': '533bccebc3a36844cf0011a7', 'de...   \n",
       "45475  [{'credit_id': '593e676c92514105b702e68e', 'de...   \n",
       "\n",
       "                           job               name  \n",
       "45466    Recording Supervision         Fred Hynes  \n",
       "45467             Music Editor       George Adams  \n",
       "45468             Music Editor       Robert Mayer  \n",
       "45469                 Director        Adrian Lyne  \n",
       "45470               Screenplay  Thomas Hedley Jr.  \n",
       "45471               Screenplay      Joe Eszterhas  \n",
       "45472                 Producer        Don Simpson  \n",
       "45473                 Producer  Jerry Bruckheimer  \n",
       "45474  Original Music Composer    Giorgio Moroder  \n",
       "45475  Director of Photography    Donald Peterman  "
      ]
     },
     "execution_count": 3,
     "metadata": {},
     "output_type": "execute_result"
    }
   ],
   "source": [
    "df.tail(10)"
   ]
  },
  {
   "cell_type": "code",
   "execution_count": 4,
   "metadata": {},
   "outputs": [],
   "source": [
    "def get_director(director):\n",
    "\n",
    "    peliculas_director = df[df['name'].apply(lambda x: director in str(x) if pd.notnull(x) else False)]\n",
    "    peliculas_director = peliculas_director.drop_duplicates(subset='id')\n",
    "    \n",
    "    # Cuenta la cantidad de películas restantes después de eliminar los duplicados.\n",
    "    respuesta = len(peliculas_director)\n",
    "    \n",
    "    # Devuelve los resultados en un diccionario con claves legibles.\n",
    "    return {'director': director, 'cantidad de peliculas': respuesta }"
   ]
  },
  {
   "cell_type": "code",
   "execution_count": 5,
   "metadata": {},
   "outputs": [
    {
     "data": {
      "text/plain": [
       "{'director': 'Adrian Lyne', 'cantidad de peliculas': 3}"
      ]
     },
     "execution_count": 5,
     "metadata": {},
     "output_type": "execute_result"
    }
   ],
   "source": [
    "get_director('Adrian Lyne')"
   ]
  },
  {
   "cell_type": "code",
   "execution_count": 6,
   "metadata": {},
   "outputs": [],
   "source": [
    "df.to_csv('API_credits.csv', index=False)"
   ]
  }
 ],
 "metadata": {
  "kernelspec": {
   "display_name": "Python 3",
   "language": "python",
   "name": "python3"
  },
  "language_info": {
   "codemirror_mode": {
    "name": "ipython",
    "version": 3
   },
   "file_extension": ".py",
   "mimetype": "text/x-python",
   "name": "python",
   "nbconvert_exporter": "python",
   "pygments_lexer": "ipython3",
   "version": "3.11.3"
  },
  "orig_nbformat": 4
 },
 "nbformat": 4,
 "nbformat_minor": 2
}
